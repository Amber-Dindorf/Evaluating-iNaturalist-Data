{
 "cells": [
  {
   "cell_type": "code",
   "execution_count": null,
   "id": "e54bf36c-3955-4879-8650-086854b598c3",
   "metadata": {},
   "outputs": [],
   "source": [
    "#The following script takes a data frame created in pandas and exports it into a database. \n",
    "#Ensure that you have created a database before running the script.\n",
    "\n",
    "#imports\n",
    "import pandas as pd\n",
    "import numpy as np\n",
    "import datetime as dt\n",
    "from sqlalchemy import create_engine\n",
    "\n",
    "#Turns CSV into a data frame\n",
    "def createdf(csv):\n",
    "    df = pd.read_csv(csv)\n",
    "    print(df.shape)\n",
    "    return df\n",
    "\n",
    "#Function to create a connection to the new db\n",
    "def createengine(eng, usr, pas, address, port, db):\n",
    "    engine = create_engine(f'{eng}://{usr}:{pas}@{address}:{port}/{db}')\n",
    "    return engine.connect()\n",
    "\n",
    "#Function to load data into database \n",
    "def dataload(connection, table_name, df):\n",
    "    df.to_sql(table_name, connection, if_exists='replace', chunksize=1000)\n",
    "\n",
    "#Final function that uses the above functions and input information to create the connection and load the data\n",
    "def main():\n",
    "    csv = 'CSV Path'\n",
    "    df = createdf(csv)\n",
    "    eng = 'Insert_engine'\n",
    "    usr = 'Insert_user'\n",
    "    password = 'Insert_password'\n",
    "    address = 'Insert_address'\n",
    "    port = 'Insert_port'\n",
    "    db = 'insert_database_name'\n",
    "    connection = createengine(eng, usr, password, address, port, db)\n",
    "    table_name = 'New_table_name'\n",
    "    dataload(connection, table_name, df)\n",
    "    \n",
    "    #Close the db connection to free resources with the local machine and server\n",
    "    connection.close()"
   ]
  }
 ],
 "metadata": {
  "kernelspec": {
   "display_name": "Python 3 (ipykernel)",
   "language": "python",
   "name": "python3"
  },
  "language_info": {
   "codemirror_mode": {
    "name": "ipython",
    "version": 3
   },
   "file_extension": ".py",
   "mimetype": "text/x-python",
   "name": "python",
   "nbconvert_exporter": "python",
   "pygments_lexer": "ipython3",
   "version": "3.9.13"
  }
 },
 "nbformat": 4,
 "nbformat_minor": 5
}
